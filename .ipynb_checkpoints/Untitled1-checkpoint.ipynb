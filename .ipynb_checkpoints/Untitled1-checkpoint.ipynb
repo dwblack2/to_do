{
 "cells": [
  {
   "cell_type": "code",
   "execution_count": null,
   "id": "dc49c6df-4ad2-468a-b264-b2b63824974e",
   "metadata": {},
   "outputs": [],
   "source": [
    "import streamlit as st\n",
    "import pandas as pd\n",
    "from datetime import date\n",
    "\n",
    "st.title(\"🗂️ To-Do List Organizer\")\n",
    "\n",
    "# Load or initialize task list\n",
    "if \"tasks\" not in st.session_state:\n",
    "    st.session_state.tasks = pd.DataFrame(columns=[\"Task\", \"Category\", \"Due Date\", \"Priority\"])\n",
    "\n",
    "# --- Add new task ---\n",
    "st.subheader(\"➕ Add a new task\")\n",
    "\n",
    "with st.form(\"new_task_form\", clear_on_submit=True):\n",
    "    task = st.text_input(\"Task name\")\n",
    "    category = st.text_input(\"Category (e.g., Work, School, Personal)\")\n",
    "    due_date = st.date_input(\"Due date\", value=date.today())\n",
    "    priority = st.selectbox(\"Priority\", [\"High\", \"Medium\", \"Low\"])\n",
    "    submitted = st.form_submit_button(\"Add task\")\n",
    "\n",
    "    if submitted and task:\n",
    "        new_task = {\"Task\": task, \"Category\": category, \"Due Date\": due_date, \"Priority\": priority}\n",
    "        st.session_state.tasks = pd.concat([st.session_state.tasks, pd.DataFrame([new_task])], ignore_index=True)\n",
    "        st.success(f\"Added: {task}\")\n",
    "\n",
    "# --- View and filter tasks ---\n",
    "st.subheader(\"📋 Your To-Do List\")\n",
    "\n",
    "# Optional sorting/filtering\n",
    "sort_by = st.selectbox(\"Sort by\", [\"Due Date\", \"Priority\", \"Category\"])\n",
    "ascending = st.checkbox(\"Sort ascending\", value=True)\n",
    "\n",
    "df_sorted = st.session_state.tasks.sort_values(by=sort_by, ascending=ascending)\n",
    "st.dataframe(df_sorted, use_container_width=True)\n",
    "\n",
    "# --- Save to CSV (optional) ---\n",
    "if st.button(\"💾 Save tasks to CSV\"):\n",
    "    df_sorted.to_csv(\"todo_list.csv\", index=False)\n",
    "    st.success(\"Tasks saved to todo_list.csv!\")\n"
   ]
  }
 ],
 "metadata": {
  "kernelspec": {
   "display_name": "Python [conda env:base] *",
   "language": "python",
   "name": "conda-base-py"
  },
  "language_info": {
   "codemirror_mode": {
    "name": "ipython",
    "version": 3
   },
   "file_extension": ".py",
   "mimetype": "text/x-python",
   "name": "python",
   "nbconvert_exporter": "python",
   "pygments_lexer": "ipython3",
   "version": "3.12.7"
  }
 },
 "nbformat": 4,
 "nbformat_minor": 5
}
